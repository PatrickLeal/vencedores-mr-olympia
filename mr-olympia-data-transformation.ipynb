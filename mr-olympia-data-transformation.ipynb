{
 "cells": [
  {
   "cell_type": "code",
   "execution_count": 3,
   "metadata": {},
   "outputs": [],
   "source": [
    "import numpy as np\n",
    "import pandas as pd"
   ]
  },
  {
   "cell_type": "markdown",
   "metadata": {},
   "source": [
    "# Mr. Olympia Champions"
   ]
  },
  {
   "cell_type": "code",
   "execution_count": null,
   "metadata": {},
   "outputs": [],
   "source": [
    "top_positions_df = pd.read_csv('data/mr-olympia-winners-top-positions.csv')\n",
    "winners_df = pd.read_csv('data/mr-olympia-winners.csv')"
   ]
  },
  {
   "cell_type": "code",
   "execution_count": null,
   "metadata": {},
   "outputs": [],
   "source": [
    "top_positions_df.head(15)"
   ]
  },
  {
   "cell_type": "code",
   "execution_count": null,
   "metadata": {},
   "outputs": [],
   "source": [
    "winners_df.head(15)"
   ]
  },
  {
   "cell_type": "code",
   "execution_count": null,
   "metadata": {},
   "outputs": [],
   "source": [
    "top_positions_df.shape"
   ]
  },
  {
   "cell_type": "code",
   "execution_count": null,
   "metadata": {},
   "outputs": [],
   "source": [
    "winners_df.shape"
   ]
  },
  {
   "cell_type": "code",
   "execution_count": null,
   "metadata": {},
   "outputs": [],
   "source": [
    "merged_df = pd.merge(winners_df, top_positions_df, on='Year', how='left')"
   ]
  },
  {
   "cell_type": "code",
   "execution_count": null,
   "metadata": {},
   "outputs": [],
   "source": [
    "merged_df.columns"
   ]
  },
  {
   "cell_type": "code",
   "execution_count": null,
   "metadata": {},
   "outputs": [],
   "source": [
    "merged_df[['Year', 'Winner(s)[a]', 'Champion', 'Runner-Up', '3rd Place']]"
   ]
  },
  {
   "cell_type": "markdown",
   "metadata": {},
   "source": [
    "os dados parecem corretos então vou remover a coluna redundante 'Winner(s)[a]'"
   ]
  },
  {
   "cell_type": "code",
   "execution_count": null,
   "metadata": {},
   "outputs": [],
   "source": [
    "merged_df = merged_df.drop(columns='Winner(s)[a]')"
   ]
  },
  {
   "cell_type": "code",
   "execution_count": null,
   "metadata": {},
   "outputs": [],
   "source": [
    "merged_df.head(10)"
   ]
  },
  {
   "cell_type": "code",
   "execution_count": null,
   "metadata": {},
   "outputs": [],
   "source": [
    "# removendo os espaços brancos nos nomes das colunas e colocando em minusculo\n",
    "merged_df.columns = merged_df.columns.str.strip().str.replace(\" \", \"_\") # removendo os espaços brancos nos nomes das colunas\n",
    "merged_df.columns = merged_df.columns.str.lower()                       # colocando em minusculo\n",
    "merged_df.rename(columns={'award': 'champion_award'}, inplace=True)     # mudando o nome da coluna"
   ]
  },
  {
   "cell_type": "code",
   "execution_count": null,
   "metadata": {},
   "outputs": [],
   "source": [
    "merged_df.to_csv('data/mr-olympia-champions.csv', index='False')"
   ]
  },
  {
   "cell_type": "markdown",
   "metadata": {},
   "source": [
    "# Classic Physique"
   ]
  },
  {
   "cell_type": "code",
   "execution_count": 5,
   "metadata": {},
   "outputs": [],
   "source": [
    "CP_chrono_df = pd.read_csv('data/classic-physique-chrono.csv')\n",
    "CP_top3_df = pd.read_csv('data/classic-physique-top3.csv')"
   ]
  },
  {
   "cell_type": "code",
   "execution_count": 6,
   "metadata": {},
   "outputs": [
    {
     "data": {
      "text/html": [
       "<div>\n",
       "<style scoped>\n",
       "    .dataframe tbody tr th:only-of-type {\n",
       "        vertical-align: middle;\n",
       "    }\n",
       "\n",
       "    .dataframe tbody tr th {\n",
       "        vertical-align: top;\n",
       "    }\n",
       "\n",
       "    .dataframe thead th {\n",
       "        text-align: right;\n",
       "    }\n",
       "</style>\n",
       "<table border=\"1\" class=\"dataframe\">\n",
       "  <thead>\n",
       "    <tr style=\"text-align: right;\">\n",
       "      <th></th>\n",
       "      <th>#</th>\n",
       "      <th>Year</th>\n",
       "      <th>Winner</th>\n",
       "      <th>Award</th>\n",
       "      <th>Venue</th>\n",
       "    </tr>\n",
       "  </thead>\n",
       "  <tbody>\n",
       "    <tr>\n",
       "      <th>0</th>\n",
       "      <td>1</td>\n",
       "      <td>2016</td>\n",
       "      <td>Danny Hester[36]</td>\n",
       "      <td>$12,500</td>\n",
       "      <td>Las Vegas, United States</td>\n",
       "    </tr>\n",
       "    <tr>\n",
       "      <th>1</th>\n",
       "      <td>2</td>\n",
       "      <td>2017</td>\n",
       "      <td>Breon Ansley[37][38]</td>\n",
       "      <td>$20,000</td>\n",
       "      <td>Las Vegas, United States</td>\n",
       "    </tr>\n",
       "    <tr>\n",
       "      <th>2</th>\n",
       "      <td>3</td>\n",
       "      <td>2018</td>\n",
       "      <td>Breon Ansley[37][38]</td>\n",
       "      <td>$20,000</td>\n",
       "      <td>Las Vegas, United States</td>\n",
       "    </tr>\n",
       "    <tr>\n",
       "      <th>3</th>\n",
       "      <td>4</td>\n",
       "      <td>2019</td>\n",
       "      <td>Chris Bumstead[39][40]</td>\n",
       "      <td>$30,000</td>\n",
       "      <td>Las Vegas, United States</td>\n",
       "    </tr>\n",
       "    <tr>\n",
       "      <th>4</th>\n",
       "      <td>5</td>\n",
       "      <td>2020</td>\n",
       "      <td>Chris Bumstead[39][40]</td>\n",
       "      <td>$30,000</td>\n",
       "      <td>Orlando, United States</td>\n",
       "    </tr>\n",
       "  </tbody>\n",
       "</table>\n",
       "</div>"
      ],
      "text/plain": [
       "   #  Year                  Winner    Award                     Venue\n",
       "0  1  2016        Danny Hester[36]  $12,500  Las Vegas, United States\n",
       "1  2  2017    Breon Ansley[37][38]  $20,000  Las Vegas, United States\n",
       "2  3  2018    Breon Ansley[37][38]  $20,000  Las Vegas, United States\n",
       "3  4  2019  Chris Bumstead[39][40]  $30,000  Las Vegas, United States\n",
       "4  5  2020  Chris Bumstead[39][40]  $30,000    Orlando, United States"
      ]
     },
     "execution_count": 6,
     "metadata": {},
     "output_type": "execute_result"
    }
   ],
   "source": [
    "CP_chrono_df.head()"
   ]
  },
  {
   "cell_type": "code",
   "execution_count": 7,
   "metadata": {},
   "outputs": [
    {
     "data": {
      "text/html": [
       "<div>\n",
       "<style scoped>\n",
       "    .dataframe tbody tr th:only-of-type {\n",
       "        vertical-align: middle;\n",
       "    }\n",
       "\n",
       "    .dataframe tbody tr th {\n",
       "        vertical-align: top;\n",
       "    }\n",
       "\n",
       "    .dataframe thead th {\n",
       "        text-align: right;\n",
       "    }\n",
       "</style>\n",
       "<table border=\"1\" class=\"dataframe\">\n",
       "  <thead>\n",
       "    <tr style=\"text-align: right;\">\n",
       "      <th></th>\n",
       "      <th>Year</th>\n",
       "      <th>represented_country_cham</th>\n",
       "      <th>Champion</th>\n",
       "      <th>represented_country_runn</th>\n",
       "      <th>Runner-Up</th>\n",
       "      <th>represented_country_thir</th>\n",
       "      <th>3rd Place</th>\n",
       "    </tr>\n",
       "  </thead>\n",
       "  <tbody>\n",
       "    <tr>\n",
       "      <th>0</th>\n",
       "      <td>2016</td>\n",
       "      <td>United States</td>\n",
       "      <td>Danny Hester</td>\n",
       "      <td>Iran</td>\n",
       "      <td>Arash Rahbar</td>\n",
       "      <td>Bosnia and Herzegovina</td>\n",
       "      <td>Sadik Hadzovic</td>\n",
       "    </tr>\n",
       "    <tr>\n",
       "      <th>1</th>\n",
       "      <td>2017</td>\n",
       "      <td>United States</td>\n",
       "      <td>Breon Ansley</td>\n",
       "      <td>Canada</td>\n",
       "      <td>Chris Bumstead</td>\n",
       "      <td>United States</td>\n",
       "      <td>George Peterson</td>\n",
       "    </tr>\n",
       "    <tr>\n",
       "      <th>2</th>\n",
       "      <td>2018</td>\n",
       "      <td>United States</td>\n",
       "      <td>Breon Ansley</td>\n",
       "      <td>Canada</td>\n",
       "      <td>Chris Bumstead</td>\n",
       "      <td>United States</td>\n",
       "      <td>George Peterson</td>\n",
       "    </tr>\n",
       "    <tr>\n",
       "      <th>3</th>\n",
       "      <td>2019</td>\n",
       "      <td>Canada</td>\n",
       "      <td>Chris Bumstead</td>\n",
       "      <td>United States</td>\n",
       "      <td>Breon Ansley</td>\n",
       "      <td>United States</td>\n",
       "      <td>George Peterson</td>\n",
       "    </tr>\n",
       "    <tr>\n",
       "      <th>4</th>\n",
       "      <td>2020</td>\n",
       "      <td>Canada</td>\n",
       "      <td>Chris Bumstead</td>\n",
       "      <td>United States</td>\n",
       "      <td>Terrence Ruffin</td>\n",
       "      <td>United States</td>\n",
       "      <td>Breon Ansley</td>\n",
       "    </tr>\n",
       "  </tbody>\n",
       "</table>\n",
       "</div>"
      ],
      "text/plain": [
       "   Year represented_country_cham        Champion represented_country_runn  \\\n",
       "0  2016            United States    Danny Hester                     Iran   \n",
       "1  2017            United States    Breon Ansley                   Canada   \n",
       "2  2018            United States    Breon Ansley                   Canada   \n",
       "3  2019                   Canada  Chris Bumstead            United States   \n",
       "4  2020                   Canada  Chris Bumstead            United States   \n",
       "\n",
       "         Runner-Up represented_country_thir        3rd Place  \n",
       "0     Arash Rahbar   Bosnia and Herzegovina   Sadik Hadzovic  \n",
       "1   Chris Bumstead            United States  George Peterson  \n",
       "2   Chris Bumstead            United States  George Peterson  \n",
       "3     Breon Ansley            United States  George Peterson  \n",
       "4  Terrence Ruffin            United States     Breon Ansley  "
      ]
     },
     "execution_count": 7,
     "metadata": {},
     "output_type": "execute_result"
    }
   ],
   "source": [
    "CP_top3_df.head()"
   ]
  },
  {
   "cell_type": "markdown",
   "metadata": {},
   "source": [
    "Preciso remover uma coluna do primeiro df e depois fazer o merge dos dois dfs"
   ]
  },
  {
   "cell_type": "code",
   "execution_count": 9,
   "metadata": {},
   "outputs": [],
   "source": [
    "CP_chrono_df.drop(columns='#', inplace=True)"
   ]
  },
  {
   "cell_type": "code",
   "execution_count": 11,
   "metadata": {},
   "outputs": [],
   "source": [
    "CP_merged = pd.merge(CP_chrono_df, CP_top3_df, on='Year', how='left')"
   ]
  },
  {
   "cell_type": "code",
   "execution_count": 12,
   "metadata": {},
   "outputs": [
    {
     "data": {
      "text/html": [
       "<div>\n",
       "<style scoped>\n",
       "    .dataframe tbody tr th:only-of-type {\n",
       "        vertical-align: middle;\n",
       "    }\n",
       "\n",
       "    .dataframe tbody tr th {\n",
       "        vertical-align: top;\n",
       "    }\n",
       "\n",
       "    .dataframe thead th {\n",
       "        text-align: right;\n",
       "    }\n",
       "</style>\n",
       "<table border=\"1\" class=\"dataframe\">\n",
       "  <thead>\n",
       "    <tr style=\"text-align: right;\">\n",
       "      <th></th>\n",
       "      <th>Year</th>\n",
       "      <th>Winner</th>\n",
       "      <th>Award</th>\n",
       "      <th>Venue</th>\n",
       "      <th>represented_country_cham</th>\n",
       "      <th>Champion</th>\n",
       "      <th>represented_country_runn</th>\n",
       "      <th>Runner-Up</th>\n",
       "      <th>represented_country_thir</th>\n",
       "      <th>3rd Place</th>\n",
       "    </tr>\n",
       "  </thead>\n",
       "  <tbody>\n",
       "    <tr>\n",
       "      <th>0</th>\n",
       "      <td>2016</td>\n",
       "      <td>Danny Hester[36]</td>\n",
       "      <td>$12,500</td>\n",
       "      <td>Las Vegas, United States</td>\n",
       "      <td>United States</td>\n",
       "      <td>Danny Hester</td>\n",
       "      <td>Iran</td>\n",
       "      <td>Arash Rahbar</td>\n",
       "      <td>Bosnia and Herzegovina</td>\n",
       "      <td>Sadik Hadzovic</td>\n",
       "    </tr>\n",
       "    <tr>\n",
       "      <th>1</th>\n",
       "      <td>2017</td>\n",
       "      <td>Breon Ansley[37][38]</td>\n",
       "      <td>$20,000</td>\n",
       "      <td>Las Vegas, United States</td>\n",
       "      <td>United States</td>\n",
       "      <td>Breon Ansley</td>\n",
       "      <td>Canada</td>\n",
       "      <td>Chris Bumstead</td>\n",
       "      <td>United States</td>\n",
       "      <td>George Peterson</td>\n",
       "    </tr>\n",
       "    <tr>\n",
       "      <th>2</th>\n",
       "      <td>2018</td>\n",
       "      <td>Breon Ansley[37][38]</td>\n",
       "      <td>$20,000</td>\n",
       "      <td>Las Vegas, United States</td>\n",
       "      <td>United States</td>\n",
       "      <td>Breon Ansley</td>\n",
       "      <td>Canada</td>\n",
       "      <td>Chris Bumstead</td>\n",
       "      <td>United States</td>\n",
       "      <td>George Peterson</td>\n",
       "    </tr>\n",
       "    <tr>\n",
       "      <th>3</th>\n",
       "      <td>2019</td>\n",
       "      <td>Chris Bumstead[39][40]</td>\n",
       "      <td>$30,000</td>\n",
       "      <td>Las Vegas, United States</td>\n",
       "      <td>Canada</td>\n",
       "      <td>Chris Bumstead</td>\n",
       "      <td>United States</td>\n",
       "      <td>Breon Ansley</td>\n",
       "      <td>United States</td>\n",
       "      <td>George Peterson</td>\n",
       "    </tr>\n",
       "    <tr>\n",
       "      <th>4</th>\n",
       "      <td>2020</td>\n",
       "      <td>Chris Bumstead[39][40]</td>\n",
       "      <td>$30,000</td>\n",
       "      <td>Orlando, United States</td>\n",
       "      <td>Canada</td>\n",
       "      <td>Chris Bumstead</td>\n",
       "      <td>United States</td>\n",
       "      <td>Terrence Ruffin</td>\n",
       "      <td>United States</td>\n",
       "      <td>Breon Ansley</td>\n",
       "    </tr>\n",
       "  </tbody>\n",
       "</table>\n",
       "</div>"
      ],
      "text/plain": [
       "   Year                  Winner    Award                     Venue  \\\n",
       "0  2016        Danny Hester[36]  $12,500  Las Vegas, United States   \n",
       "1  2017    Breon Ansley[37][38]  $20,000  Las Vegas, United States   \n",
       "2  2018    Breon Ansley[37][38]  $20,000  Las Vegas, United States   \n",
       "3  2019  Chris Bumstead[39][40]  $30,000  Las Vegas, United States   \n",
       "4  2020  Chris Bumstead[39][40]  $30,000    Orlando, United States   \n",
       "\n",
       "  represented_country_cham        Champion represented_country_runn  \\\n",
       "0            United States    Danny Hester                     Iran   \n",
       "1            United States    Breon Ansley                   Canada   \n",
       "2            United States    Breon Ansley                   Canada   \n",
       "3                   Canada  Chris Bumstead            United States   \n",
       "4                   Canada  Chris Bumstead            United States   \n",
       "\n",
       "         Runner-Up represented_country_thir        3rd Place  \n",
       "0     Arash Rahbar   Bosnia and Herzegovina   Sadik Hadzovic  \n",
       "1   Chris Bumstead            United States  George Peterson  \n",
       "2   Chris Bumstead            United States  George Peterson  \n",
       "3     Breon Ansley            United States  George Peterson  \n",
       "4  Terrence Ruffin            United States     Breon Ansley  "
      ]
     },
     "execution_count": 12,
     "metadata": {},
     "output_type": "execute_result"
    }
   ],
   "source": [
    "CP_merged.head()"
   ]
  },
  {
   "cell_type": "markdown",
   "metadata": {},
   "source": [
    "Agora preciso remover a coluna winner porque é redundante; depois renomear a coluna award"
   ]
  },
  {
   "cell_type": "code",
   "execution_count": 14,
   "metadata": {},
   "outputs": [],
   "source": [
    "CP_merged.drop(columns='Winner', inplace=True)"
   ]
  },
  {
   "cell_type": "code",
   "execution_count": 21,
   "metadata": {},
   "outputs": [],
   "source": [
    "# remove os espaços vazios do títulos e coloca todos os nomes das coluna em minúsculo\n",
    "CP_merged.columns = CP_merged.columns.str.strip().str.lower().str.replace(\" \", \"_\")\n",
    "CP_merged.rename(columns={'award': 'champion_award'}, inplace=True) # renomeia a coluna"
   ]
  },
  {
   "cell_type": "code",
   "execution_count": 23,
   "metadata": {},
   "outputs": [],
   "source": [
    "CP_merged.to_csv('data/classic-physique-champions.csv')"
   ]
  }
 ],
 "metadata": {
  "kernelspec": {
   "display_name": "ds_minimo",
   "language": "python",
   "name": "python3"
  },
  "language_info": {
   "codemirror_mode": {
    "name": "ipython",
    "version": 3
   },
   "file_extension": ".py",
   "mimetype": "text/x-python",
   "name": "python",
   "nbconvert_exporter": "python",
   "pygments_lexer": "ipython3",
   "version": "3.11.0"
  }
 },
 "nbformat": 4,
 "nbformat_minor": 2
}
